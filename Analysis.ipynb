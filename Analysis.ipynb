{
 "cells": [
  {
   "cell_type": "code",
   "execution_count": 1,
   "metadata": {},
   "outputs": [],
   "source": [
    "import numpy as np\n",
    "\n",
    "from photutils import CircularAperture\n",
    "from photutils import CircularAnnulus\n",
    "from photutils import aperture_photometry\n",
    "from astropy.io import fits\n",
    "\n",
    "import matplotlib.pyplot as plt\n",
    "from mpl_toolkits.axes_grid1 import make_axes_locatable\n",
    "from astropy.stats import mad_std\n",
    "\n",
    "import pandas as pd\n",
    "from statistics import stdev"
   ]
  },
  {
   "cell_type": "code",
   "execution_count": 75,
   "metadata": {},
   "outputs": [
    {
     "name": "stdout",
     "output_type": "stream",
     "text": [
      "[25.118, 25.071, 25.071, 25.072]\n",
      "[3611.21922, 4720.55221, 8403.88451, 5999.77082]\n",
      "[0.01311, 0.01332, 0.02257, 0.01602]\n",
      "[300787.10499, 390921.00015, 405963.36717, 405876.86513]\n",
      "0.005214095132971561\n"
     ]
    }
   ],
   "source": [
    "# Star one average count and stdev\n",
    "\n",
    "data = pd.read_csv('star_1.csv')\n",
    "\n",
    "s1_mag = [16.262, 16.023, 15.935, 15.936]\n",
    "\n",
    "df1 = data.query('Filter == \"g\"')\n",
    "g_c = df1['Source Counts']\n",
    "avg_g = round(np.average(g_c)  ,5)  \n",
    "sys_g = round(stdev(g_c),5)\n",
    "C_g1 =  round(s1_mag[0]+ 2.5*np.log10(g_c/90), 3) \n",
    "\n",
    "df1 = data.query('Filter == \"r\"')\n",
    "r_c = df1['Source Counts']\n",
    "avg_r = round(np.average(r_c), 5) \n",
    "sys_r = round(stdev(r_c),5)\n",
    "C_r1 =  round(s1_mag[1]+ 2.5*np.log10(r_c/90), 3) \n",
    "\n",
    "df1 = data.query('Filter == \"i\"')    \n",
    "i_c = df1['Source Counts']\n",
    "avg_i = round(np.average(i_c) ,5)\n",
    "sys_i = round(stdev(i_c),5)\n",
    "C_i1 =  round(s1_mag[2]+ 2.5*np.log10(i_c/90), 3) \n",
    "\n",
    "df1 = data.query('Filter == \"z\"')    \n",
    "z_c = df1['Source Counts']\n",
    "avg_z = round(np.average(z_c) ,5)\n",
    "sys_z = round(stdev(z_c),5)\n",
    "C_z1 =  round(s1_mag[3]+ 2.5*np.log10(z_c/90), 3) \n",
    "\n",
    "avg_n1 = [avg_g, avg_r, avg_i, avg_z]\n",
    "sys_n1 = [sys_g, sys_r, sys_i, sys_z] \n",
    "C_g1_dev = round(stdev(C_g1), 5)\n",
    "C_r1_dev = round(stdev(C_r1), 5)\n",
    "C_i1_dev = round(stdev(C_i1), 5)\n",
    "C_z1_dev = round(stdev(C_z1), 5)\n",
    "\n",
    "C1=[0,0,0,0]\n",
    "C1_sig=[C_g1_dev, C_r1_dev, C_i1_dev, C_z1_dev]\n",
    "for j in range(0,4):\n",
    "    C1[j-1] =  round(s1_mag[j]+ 2.5*np.log10(avg_n1[j]/90), 3)    \n",
    "C_prop = 1/avg_g*1/np.log(10)*sys_g\n",
    "print(C1)\n",
    "print(sys_n1)\n",
    "print(C1_sig)\n",
    "print(avg_n1)\n",
    "print(C_prop)"
   ]
  },
  {
   "cell_type": "code",
   "execution_count": 73,
   "metadata": {},
   "outputs": [
    {
     "name": "stdout",
     "output_type": "stream",
     "text": [
      "[25.186, 25.166, 25.101, 25.191]\n",
      "[3315.05857, 4476.80689, 2316.68208, 3691.92419]\n",
      "[0.04447, 0.01759, 0.00497, 0.0066]\n",
      "[80931.17825, 278681.88962, 479358.54251, 609596.11428]\n"
     ]
    }
   ],
   "source": [
    "data = pd.read_csv('star_2.csv')\n",
    "\n",
    "s2_mag = [17.806, 16.459, 15.850, 15.524]\n",
    "\n",
    "df2 = data.query('Filter == \"g\"')\n",
    "g_c = df2['Source Counts']\n",
    "avg_g = round(np.average(g_c)  ,5)  \n",
    "sys_g = round(stdev(g_c),5)\n",
    "C_g2 =  round(s2_mag[0]+ 2.5*np.log10(g_c/90), 3) \n",
    "\n",
    "df2 = data.query('Filter == \"r\"')\n",
    "r_c = df2['Source Counts']\n",
    "avg_r = round(np.average(r_c), 5) \n",
    "sys_r = round(stdev(r_c),5)\n",
    "C_r2 =  round(s2_mag[1]+ 2.5*np.log10(r_c/90), 3) \n",
    "\n",
    "df2 = data.query('Filter == \"i\"')    \n",
    "i_c = df2['Source Counts']\n",
    "avg_i = round(np.average(i_c) ,5)\n",
    "sys_i = round(stdev(i_c),5)\n",
    "C_i2 =  round(s2_mag[2]+ 2.5*np.log10(i_c/90), 3) \n",
    "\n",
    "df2 = data.query('Filter == \"z\"')    \n",
    "z_c = df2['Source Counts']\n",
    "avg_z = round(np.average(z_c) ,5)\n",
    "sys_z = round(stdev(z_c),5)\n",
    "C_z2 =  round(s2_mag[3]+ 2.5*np.log10(z_c/90), 3)\n",
    "\n",
    "avg_n2 = [avg_g, avg_r, avg_i, avg_z]\n",
    "sys_n2 = [sys_g, sys_r, sys_i, sys_z] \n",
    "C_g2_dev = round(stdev(C_g2), 5)\n",
    "C_r2_dev = round(stdev(C_r2), 5)\n",
    "C_i2_dev = round(stdev(C_i2), 5)\n",
    "C_z2_dev = round(stdev(C_z2), 5)\n",
    "\n",
    "C2_sig=[C_g2_dev, C_r2_dev, C_i2_dev, C_z2_dev]\n",
    "\n",
    "C2=[0,0,0,0]\n",
    "\n",
    "for i in range(0,4):\n",
    "    C2[i-1] =  round(s2_mag[i]+ 2.5*np.log10(avg_n2[i]/90), 3)\n",
    "\n",
    "print(C2) \n",
    "print(sys_n2)\n",
    "print(C2_sig)\n",
    "print(avg_n2)"
   ]
  },
  {
   "cell_type": "code",
   "execution_count": 4,
   "metadata": {},
   "outputs": [
    {
     "name": "stdout",
     "output_type": "stream",
     "text": [
      "[[25.118, 25.071, 25.071, 25.072], [25.186, 25.166, 25.101, 25.191]]\n",
      "[25.152  25.1185 25.086  25.1315]\n",
      "[0.02879  0.015455 0.01377  0.01131 ]\n"
     ]
    }
   ],
   "source": [
    "# Averaging Cs\n",
    "C12 = [C1,C2]\n",
    "print(C12)\n",
    "C12_sig = C1_sig, C2_sig\n",
    "\n",
    "C = np.mean(C12, axis = 0) #averages the columns with axis = 0\n",
    "C_sig = np.mean(C12_sig, axis = 0)\n",
    "print(C)\n",
    "print(C_sig)\n"
   ]
  },
  {
   "cell_type": "code",
   "execution_count": 6,
   "metadata": {},
   "outputs": [],
   "source": [
    "def tp(data):\n",
    "    d = np.transpose(data)\n",
    "    print(d)\n",
    "    return d\n",
    "\n",
    "\n",
    "#C_table = pd.DataFrame(Cs, columns = ['Star 1', 'Star 2', 'Average C', 'Sigma C'], index = ['g', 'r', 'i', 'z'],)\n",
    "#print(C_table)\n",
    "#.to_csv('C-table.csv', index=None, sep=',', mode='w') "
   ]
  },
  {
   "cell_type": "code",
   "execution_count": 5,
   "metadata": {},
   "outputs": [
    {
     "name": "stdout",
     "output_type": "stream",
     "text": [
      "([25.118, 25.071, 25.071, 25.072], [25.186, 25.166, 25.101, 25.191], [25.152, 25.1185, 25.086, 25.1315], [0.028790000000000003, 0.015455, 0.01377, 0.01131])\n"
     ]
    }
   ],
   "source": [
    "a = C.tolist()\n",
    "b = C_sig.tolist()\n",
    "\n",
    "Cs = C1, C2, a, b\n",
    "print(Cs)\n",
    "\n"
   ]
  },
  {
   "cell_type": "code",
   "execution_count": 7,
   "metadata": {},
   "outputs": [
    {
     "name": "stdout",
     "output_type": "stream",
     "text": [
      "[[2.51180e+01 2.51860e+01 2.51520e+01 2.87900e-02]\n",
      " [2.50710e+01 2.51660e+01 2.51185e+01 1.54550e-02]\n",
      " [2.50710e+01 2.51010e+01 2.50860e+01 1.37700e-02]\n",
      " [2.50720e+01 2.51910e+01 2.51315e+01 1.13100e-02]]\n",
      "[[2.51180e+01 2.51860e+01 2.51520e+01 2.87900e-02]\n",
      " [2.50710e+01 2.51660e+01 2.51185e+01 1.54550e-02]\n",
      " [2.50710e+01 2.51010e+01 2.50860e+01 1.37700e-02]\n",
      " [2.50720e+01 2.51910e+01 2.51315e+01 1.13100e-02]]\n"
     ]
    }
   ],
   "source": [
    "cs2 = tp(Cs)\n",
    "print(cs2)\n",
    "\n"
   ]
  },
  {
   "cell_type": "code",
   "execution_count": 15,
   "metadata": {},
   "outputs": [
    {
     "name": "stdout",
     "output_type": "stream",
     "text": [
      "  Star 1 Star 2 Average C Sigma C\n",
      "g    NaN    NaN       NaN     NaN\n",
      "r    NaN    NaN       NaN     NaN\n",
      "i    NaN    NaN       NaN     NaN\n",
      "z    NaN    NaN       NaN     NaN\n"
     ]
    }
   ],
   "source": [
    "df = pd.DataFrame(data = None,  index = ('g', 'r', 'i', 'z'), columns = ('Star 1', 'Star 2', 'Average C', 'Sigma C'))\n",
    "print(df)\n"
   ]
  },
  {
   "cell_type": "code",
   "execution_count": 17,
   "metadata": {},
   "outputs": [
    {
     "name": "stdout",
     "output_type": "stream",
     "text": [
      "   Star 1  Star 2  Average C   Sigma C\n",
      "g  25.118  25.186    25.1520  0.028790\n",
      "r  25.071  25.166    25.1185  0.015455\n",
      "i  25.071  25.101    25.0860  0.013770\n",
      "z  25.072  25.191    25.1315  0.011310\n"
     ]
    }
   ],
   "source": [
    "df['Star 1']= C1\n",
    "df['Star 2']= C2\n",
    "df['Average C']= C\n",
    "df['Sigma C']= C_sig\n",
    "print(df)\n"
   ]
  },
  {
   "cell_type": "code",
   "execution_count": 18,
   "metadata": {},
   "outputs": [],
   "source": [
    "df.to_csv('C-table.csv', sep=',', mode='w') "
   ]
  },
  {
   "cell_type": "code",
   "execution_count": 19,
   "metadata": {},
   "outputs": [
    {
     "name": "stdout",
     "output_type": "stream",
     "text": [
      "              g             r             i             z\n",
      "0  210161.37086  363686.61350  430755.86322  474594.47393\n",
      "1   65351.40363  251072.04506  458410.30451  604049.55616\n",
      "2  328027.31691  407249.71000  410773.21577  398684.04845\n",
      "            g           r           i            z\n",
      "0  3424.48505  4914.15159  3092.51214   4124.87895\n",
      "1  3180.83428  3413.96973  6238.74015  10107.93382\n",
      "2  5713.86384  4215.36411  8807.44864   5731.60254\n"
     ]
    }
   ],
   "source": [
    "# Finding band difs and standard deviations\n",
    "\n",
    "band_dif = [0,0,0]\n",
    "avg_n = [0,0,0]\n",
    "sys_n = [0,0,0]\n",
    "for j in range(0,3):\n",
    "    x = j+3\n",
    "    o = \"star_%d.csv\"%x\n",
    "    data = pd.read_csv(o)    \n",
    "    \n",
    "    df3 = data.query('Filter == \"g\"')\n",
    "    g_c = df3['Source Counts']\n",
    "    avg_g = round(np.average(g_c)  ,5)  \n",
    "    sys_g = round(stdev(g_c),5)    \n",
    "\n",
    "    df3 = data.query('Filter == \"r\"')\n",
    "    r_c = df3['Source Counts']\n",
    "    avg_r = round(np.average(r_c), 5) \n",
    "    sys_r = round(stdev(r_c),5)\n",
    "\n",
    "    df3 = data.query('Filter == \"i\"')    \n",
    "    i_c = df3['Source Counts']\n",
    "    avg_i = round(np.average(i_c) ,5)\n",
    "    sys_i = round(stdev(i_c),5)\n",
    "\n",
    "    df3 = data.query('Filter == \"z\"')    \n",
    "    z_c = df3['Source Counts']\n",
    "    avg_z = round(np.average(z_c) ,5)\n",
    "    sys_z = round(stdev(z_c),5)\n",
    "\n",
    "    avg_n[j] = [avg_g, avg_r, avg_i, avg_z]\n",
    "    sys_n[j] = [sys_g, sys_r, sys_i, sys_z]    \n",
    "\n",
    "\n",
    "counts = pd.DataFrame(avg_n, columns= ['g', 'r', 'i', 'z'])\n",
    "st_dev = pd.DataFrame(sys_n, columns= ['g', 'r', 'i', 'z'])\n",
    "print(counts)\n",
    "print(st_dev)"
   ]
  },
  {
   "cell_type": "code",
   "execution_count": null,
   "metadata": {},
   "outputs": [],
   "source": [
    "counts.to_csv('final_counts.csv', index=None, sep=',', mode='w') \n",
    "st_dev.to_csv('final_count_errors.csv', index=None, sep=',', mode='w') "
   ]
  },
  {
   "cell_type": "code",
   "execution_count": 20,
   "metadata": {},
   "outputs": [
    {
     "name": "stdout",
     "output_type": "stream",
     "text": [
      "           g          r          i          z\n",
      "0  16.731224  16.102288  15.886028  15.826300\n",
      "1  17.999469  16.504610  15.818470  15.564425\n",
      "2  16.247831  15.979454  15.937601  16.015534\n"
     ]
    }
   ],
   "source": [
    "def get_mag(band):\n",
    "    m = -2.5*np.log10(band/90)\n",
    "    return m\n",
    "pre_mag = counts.applymap(get_mag)\n",
    "#print(pre_mag)\n",
    "mag = pre_mag + C\n",
    "print(mag)\n"
   ]
  },
  {
   "cell_type": "code",
   "execution_count": null,
   "metadata": {},
   "outputs": [],
   "source": [
    "mag.to_csv('final_mags.csv', index=None, sep=',', mode='w') "
   ]
  },
  {
   "cell_type": "code",
   "execution_count": 21,
   "metadata": {},
   "outputs": [
    {
     "name": "stdout",
     "output_type": "stream",
     "text": [
      "          g         r         i         z\n",
      "0  0.033791  0.021309  0.015823  0.014730\n",
      "1  0.060179  0.021373  0.020198  0.021401\n",
      "2  0.034446  0.019109  0.027047  0.019276\n"
     ]
    }
   ],
   "source": [
    "# sigma magnitude\n",
    "x = np.log(10)\n",
    "#y = counts/90\n",
    "sigma_mag =  np.sqrt((2.5*st_dev/(counts*x))**2+C_sig**2)\n",
    "print(sigma_mag)\n"
   ]
  },
  {
   "cell_type": "code",
   "execution_count": null,
   "metadata": {},
   "outputs": [],
   "source": [
    "sigma_mag.to_csv('final_mags_error.csv', index=None, sep=',', mode='w') "
   ]
  },
  {
   "cell_type": "code",
   "execution_count": 22,
   "metadata": {},
   "outputs": [
    {
     "name": "stdout",
     "output_type": "stream",
     "text": [
      "        B-V       R-I          V\n",
      "0  0.836357  0.426260  16.350152\n",
      "1  1.684961  0.896140  17.107502\n",
      "2  0.483009  0.251853  16.079489\n"
     ]
    }
   ],
   "source": [
    "m = mag\n",
    "band_difs=pd.DataFrame()\n",
    "band_difs['B-V'] = 0.98*(m['g']-m['r'])  + 0.22\n",
    "#band_difs['V-R'] = 1.09*(m['r']-m['i']) + 0.22\n",
    "band_difs['R-I'] = 1*(m['r']-m['i']) + 0.21\n",
    "#band_difs['B'] = m['g'] + 0.39*(m['g']-m['r']) + 0.21\n",
    "band_difs['V'] = m['g'] - 0.59*(m['g']-m['r']) -0.01\n",
    "\n",
    "print(band_difs)"
   ]
  },
  {
   "cell_type": "code",
   "execution_count": 23,
   "metadata": {},
   "outputs": [
    {
     "name": "stdout",
     "output_type": "stream",
     "text": [
      "        B-V       R-I         V\n",
      "0  0.039150  0.026542  0.018709\n",
      "1  0.062585  0.029407  0.027709\n",
      "2  0.038604  0.033116  0.018071\n"
     ]
    }
   ],
   "source": [
    "sigma_dif = pd.DataFrame()\n",
    "sigma_dif['B-V'] = np.sqrt(0.98**2*(sigma_mag['g']**2 + sigma_mag['r']**2))\n",
    "#sigma_dif['V-R'] = np.sqrt(1.09**2*(sigma_mag['r']**2 + sigma_mag['i']**2))\n",
    "sigma_dif['R-I'] = np.sqrt(sigma_mag['r']**2 + sigma_mag['i']**2)\n",
    "sigma_dif['V'] = np.sqrt((sigma_mag['g']**2)*(1-0.59)**2 + (.59**2)*sigma_mag['r']**2)\n",
    "print(sigma_dif)"
   ]
  },
  {
   "cell_type": "code",
   "execution_count": 24,
   "metadata": {},
   "outputs": [
    {
     "name": "stdout",
     "output_type": "stream",
     "text": [
      "        B-V       R-I          V\n",
      "0  0.797207  0.399718  16.331443\n",
      "1  1.622377  0.866733  17.079793\n",
      "2  0.444406  0.218737  16.061418\n",
      "        B-V       R-I          V\n",
      "0  0.875508  0.452801  16.368860\n",
      "1  1.747546  0.925547  17.135212\n",
      "2  0.521613  0.284970  16.097560\n"
     ]
    }
   ],
   "source": [
    "# this is to get a range with standard deviation\n",
    "bd_l = band_difs-sigma_dif\n",
    "bd_h = band_difs+sigma_dif\n",
    "\n",
    "print(bd_l)\n",
    "print(bd_h)"
   ]
  },
  {
   "cell_type": "code",
   "execution_count": null,
   "metadata": {},
   "outputs": [],
   "source": [
    "band_difs.to_csv('band-difs.csv', index=None, sep=',', mode='w') \n",
    "sigma_dif.to_csv('band-dif-errors.csv', index=None, sep=',', mode='w') \n",
    "#df.to_csv('star_5.csv', index=None, sep=',', mode='w') "
   ]
  },
  {
   "cell_type": "code",
   "execution_count": null,
   "metadata": {},
   "outputs": [],
   "source": [
    "print(\"Star 3: Main Sequence K0\")\n",
    "print(\"Star 4: Supergiant, K5\")\n",
    "print(\"Star 5: Main sequence, F5\")"
   ]
  },
  {
   "cell_type": "code",
   "execution_count": 25,
   "metadata": {},
   "outputs": [],
   "source": [
    "def distance(V, M):\n",
    "    d = 10**((V-M)/5+1)\n",
    "    return d\n",
    "M = [5.9,-5.8,3.5]             "
   ]
  },
  {
   "cell_type": "code",
   "execution_count": 26,
   "metadata": {},
   "outputs": [
    {
     "name": "stdout",
     "output_type": "stream",
     "text": [
      "0      1230.354759\n",
      "1    381505.215871\n",
      "2      3280.180716\n",
      "Name: V, dtype: float64\n"
     ]
    }
   ],
   "source": [
    "d = distance(band_difs['V'], M)\n",
    "print(d)\n"
   ]
  },
  {
   "cell_type": "code",
   "execution_count": 33,
   "metadata": {},
   "outputs": [
    {
     "name": "stdout",
     "output_type": "stream",
     "text": [
      "[716.77, 776.13, 788.77, 786.52]\n"
     ]
    }
   ],
   "source": [
    "# Star one average count and stdev\n",
    "\n",
    "data = pd.read_csv('star_1.csv')\n",
    "df1 = data.filter(['Filter','Stat error: N'])\n",
    "\n",
    "\n",
    "g_c = df1.query('Filter == \"g\"')\n",
    "avg_g = round(np.average(g_c['Stat error: N'])  ,2) \n",
    "\n",
    "r_c = df1.query('Filter == \"r\"')\n",
    "avg_r = round(np.average(r_c['Stat error: N']), 2) \n",
    "\n",
    "i_c = df1.query('Filter == \"i\"')\n",
    "avg_i = round(np.average(i_c['Stat error: N']) ,2)\n",
    "\n",
    "\n",
    "z_c = df1.query('Filter == \"z\"')\n",
    "avg_z = round(np.average(z_c['Stat error: N']) ,2)\n",
    "\n",
    "avg_n1 = [avg_g, avg_r, avg_i, avg_z]\n",
    "\n",
    "\n",
    "\n",
    "\n",
    "print(avg_n1)\n"
   ]
  },
  {
   "cell_type": "code",
   "execution_count": 48,
   "metadata": {},
   "outputs": [
    {
     "name": "stdout",
     "output_type": "stream",
     "text": [
      "0    873.937759\n",
      "1    617.394903\n",
      "2    889.786063\n",
      "Name: V, dtype: float64\n"
     ]
    }
   ],
   "source": [
    "sig_d1 = band_difs['V']/sigma_dif['V']\n",
    "print(sig_d1)"
   ]
  },
  {
   "cell_type": "code",
   "execution_count": 43,
   "metadata": {},
   "outputs": [
    {
     "name": "stdout",
     "output_type": "stream",
     "text": [
      "0     35.076413\n",
      "1    617.661085\n",
      "2     57.272862\n",
      "Name: V, dtype: float64\n"
     ]
    }
   ],
   "source": [
    "sig_d2 = np.sqrt(d)\n",
    "print(sig_d2)"
   ]
  },
  {
   "cell_type": "code",
   "execution_count": 44,
   "metadata": {},
   "outputs": [
    {
     "name": "stdout",
     "output_type": "stream",
     "text": [
      "0      10.600280\n",
      "1    4868.214821\n",
      "2      27.297954\n",
      "Name: V, dtype: float64\n"
     ]
    }
   ],
   "source": [
    "sig_d3 = np.sqrt((2*np.log(10))**2*(10**((band_difs['V']-M)/5))**2*data['V']**2)\n",
    "print(sig_d3)"
   ]
  },
  {
   "cell_type": "code",
   "execution_count": 67,
   "metadata": {},
   "outputs": [
    {
     "name": "stdout",
     "output_type": "stream",
     "text": [
      "0       566.698455\n",
      "1    175757.078756\n",
      "2      1510.825677\n",
      "Name: V, dtype: float64\n"
     ]
    }
   ],
   "source": [
    "sig_d4 = np.sqrt((2*np.log(10))**2*(10**((band_difs['V']-M)/5))**2*sigma_dif['V']**2+(((-2*np.log(10))*(10**((band_difs['V']-M)/5)))**2))\n",
    "print(sig_d4)"
   ]
  },
  {
   "cell_type": "code",
   "execution_count": 71,
   "metadata": {},
   "outputs": [
    {
     "name": "stdout",
     "output_type": "stream",
     "text": [
      "0    7.037771e+02\n",
      "1    1.440408e+11\n",
      "2    6.732671e+03\n",
      "Name: V, dtype: float64\n",
      "0    7.037800e+02\n",
      "1    1.440408e+11\n",
      "2    6.732670e+03\n",
      "Name: V, dtype: float64\n"
     ]
    }
   ],
   "source": [
    "sig_d5 = np.sqrt(10**((band_difs['V']-M)/5)**2*(((np.log(10**2))*sigma_dif['V'])**2+(np.log(10**-2))**2))\n",
    "d5 = round(sig_d5, 2)\n",
    "print(sig_d5)\n",
    "print(d5)"
   ]
  },
  {
   "cell_type": "code",
   "execution_count": null,
   "metadata": {},
   "outputs": [],
   "source": []
  }
 ],
 "metadata": {
  "kernelspec": {
   "display_name": "Python 3",
   "language": "python",
   "name": "python3"
  },
  "language_info": {
   "codemirror_mode": {
    "name": "ipython",
    "version": 3
   },
   "file_extension": ".py",
   "mimetype": "text/x-python",
   "name": "python",
   "nbconvert_exporter": "python",
   "pygments_lexer": "ipython3",
   "version": "3.7.1"
  }
 },
 "nbformat": 4,
 "nbformat_minor": 2
}
